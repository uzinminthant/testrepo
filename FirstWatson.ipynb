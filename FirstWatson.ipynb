{
    "cells": [
        {
            "cell_type": "markdown",
            "metadata": {},
            "source": "# My Jupyter Notebook on IBM Watson Studio"
        },
        {
            "cell_type": "markdown",
            "metadata": {},
            "source": "**Zin Min Thant**\n<br>\nOperations Integrity Champion"
        },
        {
            "cell_type": "markdown",
            "metadata": {},
            "source": "*I am interested in data science because I would like to find the underlying root causes of incidents.*"
        },
        {
            "cell_type": "markdown",
            "metadata": {},
            "source": "### The code below is to determine pass or fail score."
        },
        {
            "cell_type": "code",
            "execution_count": 4,
            "metadata": {},
            "outputs": [
                {
                    "name": "stdout",
                    "output_type": "stream",
                    "text": "Pass!\n"
                }
            ],
            "source": "score = 85\nif (score >= 80 and score <=100):\n    print(\"Pass!\")\nelse:\n    print(\"Fail!\")"
        },
        {
            "cell_type": "markdown",
            "metadata": {},
            "source": "* Ready\n* Steady\n* Go\n___\n[Google](https://www.google.com)\n===\n---\nName | Gender | Age\n:--- | :---: | ---:\n**Zin** | M | 41\n**Win** | F | 40\n**Thuta** | M | 8\n**Wunna** | M | 6"
        }
    ],
    "metadata": {
        "kernelspec": {
            "display_name": "Python 3.7",
            "language": "python",
            "name": "python3"
        },
        "language_info": {
            "codemirror_mode": {
                "name": "ipython",
                "version": 3
            },
            "file_extension": ".py",
            "mimetype": "text/x-python",
            "name": "python",
            "nbconvert_exporter": "python",
            "pygments_lexer": "ipython3",
            "version": "3.7.9"
        }
    },
    "nbformat": 4,
    "nbformat_minor": 1
}